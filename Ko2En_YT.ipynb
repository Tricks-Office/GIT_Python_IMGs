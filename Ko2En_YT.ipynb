{
 "cells": [
  {
   "cell_type": "code",
   "execution_count": 1,
   "metadata": {},
   "outputs": [
    {
     "ename": "LanguagePackNotFound",
     "evalue": "Language pack for code ko is not found.",
     "output_type": "error",
     "traceback": [
      "\u001b[1;31m---------------------------------------------------------------------------\u001b[0m",
      "\u001b[1;31mLanguagePackNotFound\u001b[0m                      Traceback (most recent call last)",
      "Cell \u001b[1;32mIn[1], line 41\u001b[0m\n\u001b[0;32m     38\u001b[0m             \u001b[38;5;28mprint\u001b[39m(\u001b[38;5;124mf\u001b[39m\u001b[38;5;124m\"\u001b[39m\u001b[38;5;132;01m{\u001b[39;00msource_file\u001b[38;5;132;01m}\u001b[39;00m\u001b[38;5;124m -> \u001b[39m\u001b[38;5;132;01m{\u001b[39;00mnew_file_path\u001b[38;5;132;01m}\u001b[39;00m\u001b[38;5;124m\"\u001b[39m)\n\u001b[0;32m     40\u001b[0m \u001b[38;5;66;03m# 실행\u001b[39;00m\n\u001b[1;32m---> 41\u001b[0m \u001b[43mprocess_directory\u001b[49m\u001b[43m(\u001b[49m\u001b[43msource_directory\u001b[49m\u001b[43m,\u001b[49m\u001b[43m \u001b[49m\u001b[43mdestination_directory\u001b[49m\u001b[43m)\u001b[49m\n",
      "Cell \u001b[1;32mIn[1], line 26\u001b[0m, in \u001b[0;36mprocess_directory\u001b[1;34m(source_dir, destination_dir)\u001b[0m\n\u001b[0;32m     23\u001b[0m \u001b[38;5;28;01mfor\u001b[39;00m root, dirs, files \u001b[38;5;129;01min\u001b[39;00m os\u001b[38;5;241m.\u001b[39mwalk(source_dir):\n\u001b[0;32m     24\u001b[0m     \u001b[38;5;28;01mfor\u001b[39;00m file_name \u001b[38;5;129;01min\u001b[39;00m files:\n\u001b[0;32m     25\u001b[0m         \u001b[38;5;66;03m# 한글이 포함된 파일 이름을 영문으로 변환\u001b[39;00m\n\u001b[1;32m---> 26\u001b[0m         new_file_name \u001b[38;5;241m=\u001b[39m \u001b[43mkorean_to_english\u001b[49m\u001b[43m(\u001b[49m\u001b[43mfile_name\u001b[49m\u001b[43m)\u001b[49m\n\u001b[0;32m     27\u001b[0m         \u001b[38;5;66;03m# 새로운 파일 경로\u001b[39;00m\n\u001b[0;32m     28\u001b[0m         source_file \u001b[38;5;241m=\u001b[39m os\u001b[38;5;241m.\u001b[39mpath\u001b[38;5;241m.\u001b[39mjoin(root, file_name)\n",
      "Cell \u001b[1;32mIn[1], line 13\u001b[0m, in \u001b[0;36mkorean_to_english\u001b[1;34m(text)\u001b[0m\n\u001b[0;32m     11\u001b[0m \u001b[38;5;28;01mdef\u001b[39;00m \u001b[38;5;21mkorean_to_english\u001b[39m(text):\n\u001b[0;32m     12\u001b[0m     \u001b[38;5;66;03m# 로마자 변환\u001b[39;00m\n\u001b[1;32m---> 13\u001b[0m     converted_text \u001b[38;5;241m=\u001b[39m \u001b[43mtranslit\u001b[49m\u001b[43m(\u001b[49m\u001b[43mtext\u001b[49m\u001b[43m,\u001b[49m\u001b[43m \u001b[49m\u001b[38;5;124;43m'\u001b[39;49m\u001b[38;5;124;43mko\u001b[39;49m\u001b[38;5;124;43m'\u001b[39;49m\u001b[43m,\u001b[49m\u001b[43m \u001b[49m\u001b[38;5;28;43mreversed\u001b[39;49m\u001b[38;5;241;43m=\u001b[39;49m\u001b[38;5;28;43;01mTrue\u001b[39;49;00m\u001b[43m)\u001b[49m\n\u001b[0;32m     14\u001b[0m     \u001b[38;5;66;03m# 문자 정규화 및 ASCII 문자로 변환\u001b[39;00m\n\u001b[0;32m     15\u001b[0m     converted_text \u001b[38;5;241m=\u001b[39m unicodedata\u001b[38;5;241m.\u001b[39mnormalize(\u001b[38;5;124m'\u001b[39m\u001b[38;5;124mNFD\u001b[39m\u001b[38;5;124m'\u001b[39m, converted_text)\n",
      "File \u001b[1;32mc:\\Users\\550sn\\AppData\\Local\\Programs\\Python\\Python312\\Lib\\site-packages\\transliterate\\utils.py:89\u001b[0m, in \u001b[0;36mtranslit\u001b[1;34m(value, language_code, reversed, strict)\u001b[0m\n\u001b[0;32m     86\u001b[0m \u001b[38;5;28mcls\u001b[39m \u001b[38;5;241m=\u001b[39m registry\u001b[38;5;241m.\u001b[39mget(language_code)\n\u001b[0;32m     88\u001b[0m \u001b[38;5;28;01mif\u001b[39;00m \u001b[38;5;28mcls\u001b[39m \u001b[38;5;129;01mis\u001b[39;00m \u001b[38;5;28;01mNone\u001b[39;00m:\n\u001b[1;32m---> 89\u001b[0m     \u001b[38;5;28;01mraise\u001b[39;00m LanguagePackNotFound(\n\u001b[0;32m     90\u001b[0m         _(\u001b[38;5;124m\"\u001b[39m\u001b[38;5;124mLanguage pack for code \u001b[39m\u001b[38;5;132;01m%s\u001b[39;00m\u001b[38;5;124m is not found.\u001b[39m\u001b[38;5;124m\"\u001b[39m \u001b[38;5;241m%\u001b[39m language_code)\n\u001b[0;32m     91\u001b[0m     )\n\u001b[0;32m     93\u001b[0m language_pack \u001b[38;5;241m=\u001b[39m \u001b[38;5;28mcls\u001b[39m()\n\u001b[0;32m     94\u001b[0m \u001b[38;5;28;01mreturn\u001b[39;00m language_pack\u001b[38;5;241m.\u001b[39mtranslit(value, \u001b[38;5;28mreversed\u001b[39m\u001b[38;5;241m=\u001b[39m\u001b[38;5;28mreversed\u001b[39m, strict\u001b[38;5;241m=\u001b[39mstrict)\n",
      "\u001b[1;31mLanguagePackNotFound\u001b[0m: Language pack for code ko is not found."
     ]
    }
   ],
   "source": [
    "import os\n",
    "import shutil\n",
    "from transliterate import translit\n",
    "import unicodedata\n",
    "\n",
    "# 경로 설정\n",
    "source_directory = r'C:\\Data\\Sample\\IMG_Judge\\한글Sample'\n",
    "destination_directory = r'C:\\Data\\Sample\\IMG_Judge\\EnSample'\n",
    "\n",
    "# 한글을 영문으로 변환하는 함수\n",
    "def korean_to_english(text):\n",
    "    # 로마자 변환\n",
    "    converted_text = translit(text, 'ko', reversed=True)\n",
    "    # 문자 정규화 및 ASCII 문자로 변환\n",
    "    converted_text = unicodedata.normalize('NFD', converted_text)\n",
    "    return converted_text\n",
    "\n",
    "# 디렉토리 내의 모든 파일 처리\n",
    "def process_directory(source_dir, destination_dir):\n",
    "    if not os.path.exists(destination_dir):\n",
    "        os.makedirs(destination_dir)\n",
    "\n",
    "    for root, dirs, files in os.walk(source_dir):\n",
    "        for file_name in files:\n",
    "            # 한글이 포함된 파일 이름을 영문으로 변환\n",
    "            new_file_name = korean_to_english(file_name)\n",
    "            # 새로운 파일 경로\n",
    "            source_file = os.path.join(root, file_name)\n",
    "            new_root = root.replace(source_dir, destination_dir)\n",
    "            new_file_path = os.path.join(new_root, new_file_name)\n",
    "            \n",
    "            # 새 디렉토리 경로가 존재하지 않으면 생성\n",
    "            if not os.path.exists(new_root):\n",
    "                os.makedirs(new_root)\n",
    "            \n",
    "            # 파일 이동\n",
    "            shutil.move(source_file, new_file_path)\n",
    "            print(f\"{source_file} -> {new_file_path}\")\n",
    "\n",
    "# 실행\n",
    "process_directory(source_directory, destination_directory)\n"
   ]
  },
  {
   "cell_type": "code",
   "execution_count": 3,
   "metadata": {},
   "outputs": [
    {
     "name": "stdout",
     "output_type": "stream",
     "text": [
      "C:\\Data\\Sample\\IMG_Judge\\한글Sample\\샘플.png -> C:\\Data\\Sample\\IMG_Judge\\EnSample\\saempeul.png\n",
      "C:\\Data\\Sample\\IMG_Judge\\한글Sample\\열쇠.png -> C:\\Data\\Sample\\IMG_Judge\\EnSample\\yeolsoe.png\n",
      "C:\\Data\\Sample\\IMG_Judge\\한글Sample\\예제.png -> C:\\Data\\Sample\\IMG_Judge\\EnSample\\yeje.png\n",
      "C:\\Data\\Sample\\IMG_Judge\\한글Sample\\키.png -> C:\\Data\\Sample\\IMG_Judge\\EnSample\\ki.png\n",
      "C:\\Data\\Sample\\IMG_Judge\\한글Sample\\테스트.png -> C:\\Data\\Sample\\IMG_Judge\\EnSample\\teseuteu.png\n"
     ]
    }
   ],
   "source": [
    "import os\n",
    "import shutil\n",
    "from unidecode import unidecode\n",
    "\n",
    "# 경로 설정\n",
    "source_directory = r'C:\\Data\\Sample\\IMG_Judge\\한글Sample'\n",
    "destination_directory = r'C:\\Data\\Sample\\IMG_Judge\\EnSample'\n",
    "\n",
    "# 한글을 영문으로 변환하는 함수\n",
    "def korean_to_english(text):\n",
    "    # 로마자 변환 (ASCII 문자로 변환)\n",
    "    converted_text = unidecode(text)\n",
    "    return converted_text\n",
    "\n",
    "# 디렉토리 내의 모든 파일 처리\n",
    "def process_directory(source_dir, destination_dir):\n",
    "    if not os.path.exists(destination_dir):\n",
    "        os.makedirs(destination_dir)\n",
    "\n",
    "    for root, dirs, files in os.walk(source_dir):\n",
    "        for file_name in files:\n",
    "            # 한글이 포함된 파일 이름을 영문으로 변환\n",
    "            new_file_name = korean_to_english(file_name)\n",
    "            # 새로운 파일 경로\n",
    "            source_file = os.path.join(root, file_name)\n",
    "            new_root = root.replace(source_dir, destination_dir)\n",
    "            new_file_path = os.path.join(new_root, new_file_name)\n",
    "            \n",
    "            # 새 디렉토리 경로가 존재하지 않으면 생성\n",
    "            if not os.path.exists(new_root):\n",
    "                os.makedirs(new_root)\n",
    "            \n",
    "            # 파일 이동\n",
    "            shutil.copy(source_file, new_file_path)\n",
    "            print(f\"{source_file} -> {new_file_path}\")\n",
    "\n",
    "# 실행\n",
    "process_directory(source_directory, destination_directory)\n"
   ]
  }
 ],
 "metadata": {
  "kernelspec": {
   "display_name": "Python 3",
   "language": "python",
   "name": "python3"
  },
  "language_info": {
   "codemirror_mode": {
    "name": "ipython",
    "version": 3
   },
   "file_extension": ".py",
   "mimetype": "text/x-python",
   "name": "python",
   "nbconvert_exporter": "python",
   "pygments_lexer": "ipython3",
   "version": "3.12.4"
  }
 },
 "nbformat": 4,
 "nbformat_minor": 2
}
